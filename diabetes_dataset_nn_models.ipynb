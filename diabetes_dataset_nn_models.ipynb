{
 "cells": [
  {
   "cell_type": "code",
   "execution_count": 2,
   "id": "57675a01-0ce6-45f9-b96a-87aee8ee04bf",
   "metadata": {},
   "outputs": [],
   "source": [
    "%load_ext autoreload\n",
    "%autoreload 2"
   ]
  },
  {
   "cell_type": "code",
   "execution_count": null,
   "id": "619b002b-d061-4ced-bf6e-7fa857daa2dc",
   "metadata": {},
   "outputs": [],
   "source": [
    "import dataloader\n",
    "import modules \n",
    "import plots\n",
    "from trainer import Trainer"
   ]
  },
  {
   "cell_type": "markdown",
   "id": "a2f3407a-6041-4ece-aeb4-d5367948fb76",
   "metadata": {},
   "source": [
    "# Training a Feedforward Neural Network Model to Predict Diabetes Disease Progression"
   ]
  },
  {
   "cell_type": "markdown",
   "id": "6e1171db-6852-4ceb-b654-38e339e30714",
   "metadata": {},
   "source": [
    "## Load in the data\n",
    "\n",
    "See `dataloader.py` for implementation details."
   ]
  },
  {
   "cell_type": "code",
   "execution_count": 4,
   "id": "16b559c7-0b7b-4529-9f4a-c4322ce567e5",
   "metadata": {},
   "outputs": [],
   "source": [
    "diabetes_dataset = dataloader.DiabetesDataset(batch_size=64)"
   ]
  },
  {
   "cell_type": "markdown",
   "id": "be3ef6fa",
   "metadata": {},
   "source": [
    "## Initialise a model\n",
    "\n",
    "In this implementation, we can specify limited variations on our existing model architecture by passing in a list of integers specifying the shapes of the hidden layers we desire. These will be linear fully connected layers with ReLU activation and a single output node. For example:\n",
    "\n",
    "```\n",
    "network_architecture = [50, 50]\n",
    "model = modules.LinearReLUMLP(network_architecture)\n",
    "\n",
    "print(model.net)\n",
    "\n",
    ">>>\n",
    "\n",
    "ModuleList(\n",
    "  (0): LazyLinear(in_features=0, out_features=50, bias=True)\n",
    "  (1): ReLU()\n",
    "  (2): LazyLinear(in_features=0, out_features=50, bias=True)\n",
    "  (3): ReLU()\n",
    "  (4): LazyLinear(in_features=0, out_features=1, bias=True)\n",
    ")\n",
    "```"
   ]
  },
  {
   "cell_type": "code",
   "execution_count": 6,
   "id": "e4e3963a-2a70-4d02-acd4-da8637eb20b4",
   "metadata": {},
   "outputs": [],
   "source": [
    "#  a\n",
    "network_architecture = [50, 50]\n",
    "model = modules.LinearReLUMLP(network_architecture)"
   ]
  },
  {
   "cell_type": "markdown",
   "id": "cefd7194",
   "metadata": {},
   "source": [
    "## Initialise a trainer\n",
    "\n",
    "The trainer combines our data and model and facilitates the actual training loop."
   ]
  },
  {
   "cell_type": "code",
   "execution_count": null,
   "id": "cb72bfdd",
   "metadata": {},
   "outputs": [
    {
     "ename": "AttributeError",
     "evalue": "'Trainer' object has no attribute 'Trainer'",
     "output_type": "error",
     "traceback": [
      "\u001b[0;31m---------------------------------------------------------------------------\u001b[0m",
      "\u001b[0;31mAttributeError\u001b[0m                            Traceback (most recent call last)",
      "Cell \u001b[0;32mIn[8], line 1\u001b[0m\n\u001b[0;32m----> 1\u001b[0m trainer \u001b[38;5;241m=\u001b[39m \u001b[43mtrainer\u001b[49m\u001b[38;5;241;43m.\u001b[39;49m\u001b[43mTrainer\u001b[49m(max_epochs\u001b[38;5;241m=\u001b[39m\u001b[38;5;241m10\u001b[39m)\n\u001b[1;32m      2\u001b[0m trainer\u001b[38;5;241m.\u001b[39mfit(model, diabetes_dataset)\n",
      "\u001b[0;31mAttributeError\u001b[0m: 'Trainer' object has no attribute 'Trainer'"
     ]
    }
   ],
   "source": [
    "trainer = trainer.Trainer(max_epochs=10)\n",
    "trainer.fit(model, diabetes_dataset)"
   ]
  },
  {
   "cell_type": "code",
   "execution_count": null,
   "id": "eab845db-5956-47ed-bbbc-7796c2882cc8",
   "metadata": {},
   "outputs": [],
   "source": []
  }
 ],
 "metadata": {
  "kernelspec": {
   "display_name": "main",
   "language": "python",
   "name": "python3"
  },
  "language_info": {
   "codemirror_mode": {
    "name": "ipython",
    "version": 3
   },
   "file_extension": ".py",
   "mimetype": "text/x-python",
   "name": "python",
   "nbconvert_exporter": "python",
   "pygments_lexer": "ipython3",
   "version": "3.12.3"
  }
 },
 "nbformat": 4,
 "nbformat_minor": 5
}
