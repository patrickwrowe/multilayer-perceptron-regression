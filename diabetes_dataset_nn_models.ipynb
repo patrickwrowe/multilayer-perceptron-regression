{
 "cells": [
  {
   "cell_type": "code",
   "execution_count": 1,
   "id": "57675a01-0ce6-45f9-b96a-87aee8ee04bf",
   "metadata": {},
   "outputs": [],
   "source": [
    "%load_ext autoreload\n",
    "%autoreload 2"
   ]
  },
  {
   "cell_type": "code",
   "execution_count": 2,
   "id": "619b002b-d061-4ced-bf6e-7fa857daa2dc",
   "metadata": {},
   "outputs": [],
   "source": [
    "import dataloader\n",
    "import modules \n",
    "import plots\n",
    "import trainer"
   ]
  },
  {
   "cell_type": "code",
   "execution_count": 3,
   "id": "16b559c7-0b7b-4529-9f4a-c4322ce567e5",
   "metadata": {},
   "outputs": [],
   "source": [
    "diabetes_dataset = dataloader.DiabetesDataset(batch_size=64)"
   ]
  },
  {
   "cell_type": "code",
   "execution_count": 4,
   "id": "f8e7ae4a-a421-417e-9b9e-4646d24bfc63",
   "metadata": {},
   "outputs": [
    {
     "data": {
      "text/plain": [
       "(tensor([ 0.0381,  0.0507,  0.0617,  0.0219, -0.0442, -0.0348, -0.0434, -0.0026,\n",
       "          0.0199, -0.0176]),\n",
       " tensor(151.))"
      ]
     },
     "execution_count": 4,
     "metadata": {},
     "output_type": "execute_result"
    }
   ],
   "source": [
    "diabetes_dataset[0]"
   ]
  },
  {
   "cell_type": "code",
   "execution_count": null,
   "id": "e4e3963a-2a70-4d02-acd4-da8637eb20b4",
   "metadata": {},
   "outputs": [],
   "source": []
  }
 ],
 "metadata": {
  "kernelspec": {
   "display_name": "Python 3 (ipykernel)",
   "language": "python",
   "name": "python3"
  },
  "language_info": {
   "codemirror_mode": {
    "name": "ipython",
    "version": 3
   },
   "file_extension": ".py",
   "mimetype": "text/x-python",
   "name": "python",
   "nbconvert_exporter": "python",
   "pygments_lexer": "ipython3",
   "version": "3.12.3"
  }
 },
 "nbformat": 4,
 "nbformat_minor": 5
}
